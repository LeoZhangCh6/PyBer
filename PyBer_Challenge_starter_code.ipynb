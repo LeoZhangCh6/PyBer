{
 "cells": [
  {
   "cell_type": "markdown",
   "metadata": {},
   "source": [
    "# Pyber Challenge"
   ]
  },
  {
   "cell_type": "markdown",
   "metadata": {},
   "source": [
    "### 4.3 Loading and Reading CSV files"
   ]
  },
  {
   "cell_type": "code",
   "execution_count": 34,
   "metadata": {},
   "outputs": [],
   "source": [
    "# Add Matplotlib inline magic command\n",
    "%matplotlib inline\n",
    "# Dependencies and Setup\n",
    "import matplotlib.pyplot as plt\n",
    "import pandas as pd\n",
    "\n",
    "# File to Load (Remember to change these)\n",
    "city_data_to_load = \"city_data.csv\"\n",
    "ride_data_to_load = \"ride_data.csv\"\n",
    "\n",
    "# Read the City and Ride Data\n",
    "city_data_df = pd.read_csv(city_data_to_load)\n",
    "ride_data_df = pd.read_csv(ride_data_to_load)"
   ]
  },
  {
   "cell_type": "markdown",
   "metadata": {},
   "source": [
    "### Merge the DataFrames"
   ]
  },
  {
   "cell_type": "code",
   "execution_count": 35,
   "metadata": {
    "scrolled": true
   },
   "outputs": [
    {
     "data": {
      "text/html": [
       "<div>\n",
       "<style scoped>\n",
       "    .dataframe tbody tr th:only-of-type {\n",
       "        vertical-align: middle;\n",
       "    }\n",
       "\n",
       "    .dataframe tbody tr th {\n",
       "        vertical-align: top;\n",
       "    }\n",
       "\n",
       "    .dataframe thead th {\n",
       "        text-align: right;\n",
       "    }\n",
       "</style>\n",
       "<table border=\"1\" class=\"dataframe\">\n",
       "  <thead>\n",
       "    <tr style=\"text-align: right;\">\n",
       "      <th></th>\n",
       "      <th>city</th>\n",
       "      <th>date</th>\n",
       "      <th>fare</th>\n",
       "      <th>ride_id</th>\n",
       "      <th>driver_count</th>\n",
       "      <th>type</th>\n",
       "    </tr>\n",
       "  </thead>\n",
       "  <tbody>\n",
       "    <tr>\n",
       "      <th>0</th>\n",
       "      <td>Lake Jonathanshire</td>\n",
       "      <td>2019-01-14 10:14:22</td>\n",
       "      <td>13.83</td>\n",
       "      <td>5739410935873</td>\n",
       "      <td>5</td>\n",
       "      <td>Urban</td>\n",
       "    </tr>\n",
       "    <tr>\n",
       "      <th>1</th>\n",
       "      <td>South Michelleport</td>\n",
       "      <td>2019-03-04 18:24:09</td>\n",
       "      <td>30.24</td>\n",
       "      <td>2343912425577</td>\n",
       "      <td>72</td>\n",
       "      <td>Urban</td>\n",
       "    </tr>\n",
       "    <tr>\n",
       "      <th>2</th>\n",
       "      <td>Port Samanthamouth</td>\n",
       "      <td>2019-02-24 04:29:00</td>\n",
       "      <td>33.44</td>\n",
       "      <td>2005065760003</td>\n",
       "      <td>57</td>\n",
       "      <td>Urban</td>\n",
       "    </tr>\n",
       "    <tr>\n",
       "      <th>3</th>\n",
       "      <td>Rodneyfort</td>\n",
       "      <td>2019-02-10 23:22:03</td>\n",
       "      <td>23.44</td>\n",
       "      <td>5149245426178</td>\n",
       "      <td>34</td>\n",
       "      <td>Urban</td>\n",
       "    </tr>\n",
       "    <tr>\n",
       "      <th>4</th>\n",
       "      <td>South Jack</td>\n",
       "      <td>2019-03-06 04:28:35</td>\n",
       "      <td>34.58</td>\n",
       "      <td>3908451377344</td>\n",
       "      <td>46</td>\n",
       "      <td>Urban</td>\n",
       "    </tr>\n",
       "  </tbody>\n",
       "</table>\n",
       "</div>"
      ],
      "text/plain": [
       "                 city                 date   fare        ride_id  \\\n",
       "0  Lake Jonathanshire  2019-01-14 10:14:22  13.83  5739410935873   \n",
       "1  South Michelleport  2019-03-04 18:24:09  30.24  2343912425577   \n",
       "2  Port Samanthamouth  2019-02-24 04:29:00  33.44  2005065760003   \n",
       "3          Rodneyfort  2019-02-10 23:22:03  23.44  5149245426178   \n",
       "4          South Jack  2019-03-06 04:28:35  34.58  3908451377344   \n",
       "\n",
       "   driver_count   type  \n",
       "0             5  Urban  \n",
       "1            72  Urban  \n",
       "2            57  Urban  \n",
       "3            34  Urban  \n",
       "4            46  Urban  "
      ]
     },
     "execution_count": 35,
     "metadata": {},
     "output_type": "execute_result"
    }
   ],
   "source": [
    "# Combine the data into a single dataset\n",
    "pyber_data_df = pd.merge(ride_data_df, city_data_df, how=\"left\", on=[\"city\", \"city\"])\n",
    "\n",
    "# Display the data table for preview\n",
    "pyber_data_df.head()"
   ]
  },
  {
   "cell_type": "markdown",
   "metadata": {},
   "source": [
    "## Deliverable 1: Get a Summary DataFrame "
   ]
  },
  {
   "cell_type": "code",
   "execution_count": 57,
   "metadata": {},
   "outputs": [],
   "source": [
    "#  1. Get the total rides for each city type\n",
    "total_rides = pyber_data_df.groupby('type')['ride_id'].count()"
   ]
  },
  {
   "cell_type": "code",
   "execution_count": 58,
   "metadata": {},
   "outputs": [],
   "source": [
    "# 2. Get the total drivers for each city type\n",
    "total_driver = pyber_data_df.groupby('type')['driver_count'].sum()"
   ]
  },
  {
   "cell_type": "code",
   "execution_count": 100,
   "metadata": {},
   "outputs": [],
   "source": [
    "#  3. Get the total amount of fares for each city type\n",
    "total_fare = pyber_data_df.groupby('type')['fare'].sum()"
   ]
  },
  {
   "cell_type": "code",
   "execution_count": 116,
   "metadata": {},
   "outputs": [],
   "source": [
    "#  4. Get the average fare per ride for each city type. \n",
    "fare_per_ride = total_fare/total_rides"
   ]
  },
  {
   "cell_type": "code",
   "execution_count": 117,
   "metadata": {},
   "outputs": [],
   "source": [
    "# 5. Get the average fare per driver for each city type. \n",
    "fare_per_driver = total_fare/total_driver"
   ]
  },
  {
   "cell_type": "code",
   "execution_count": 126,
   "metadata": {},
   "outputs": [],
   "source": [
    "#  6. Create a PyBer summary DataFrame. \n",
    "pyber_summary_df = pd.DataFrame({\n",
    "    'Total Rides':total_rides,\n",
    "    'Total Driver':total_driver,\n",
    "    'Total Fare':total_fare,\n",
    "    'Average Fare per Ride':fare_per_ride,\n",
    "    'Average Fare per Driver':fare_per_driver\n",
    "})"
   ]
  },
  {
   "cell_type": "code",
   "execution_count": 127,
   "metadata": {},
   "outputs": [],
   "source": [
    "#  7. Cleaning up the DataFrame. Delete the index name\n",
    "pyber_summary_df.index.name = None"
   ]
  },
  {
   "cell_type": "code",
   "execution_count": 128,
   "metadata": {},
   "outputs": [
    {
     "data": {
      "text/html": [
       "<div>\n",
       "<style scoped>\n",
       "    .dataframe tbody tr th:only-of-type {\n",
       "        vertical-align: middle;\n",
       "    }\n",
       "\n",
       "    .dataframe tbody tr th {\n",
       "        vertical-align: top;\n",
       "    }\n",
       "\n",
       "    .dataframe thead th {\n",
       "        text-align: right;\n",
       "    }\n",
       "</style>\n",
       "<table border=\"1\" class=\"dataframe\">\n",
       "  <thead>\n",
       "    <tr style=\"text-align: right;\">\n",
       "      <th></th>\n",
       "      <th>Total Rides</th>\n",
       "      <th>Total Driver</th>\n",
       "      <th>Total Fare</th>\n",
       "      <th>Average Fare per Ride</th>\n",
       "      <th>Average Fare per Driver</th>\n",
       "    </tr>\n",
       "  </thead>\n",
       "  <tbody>\n",
       "    <tr>\n",
       "      <th>Rural</th>\n",
       "      <td>125</td>\n",
       "      <td>537</td>\n",
       "      <td>$4,327.93</td>\n",
       "      <td>$34.62</td>\n",
       "      <td>$8.06</td>\n",
       "    </tr>\n",
       "    <tr>\n",
       "      <th>Suburban</th>\n",
       "      <td>625</td>\n",
       "      <td>8,570</td>\n",
       "      <td>$19,356.33</td>\n",
       "      <td>$30.97</td>\n",
       "      <td>$2.26</td>\n",
       "    </tr>\n",
       "    <tr>\n",
       "      <th>Urban</th>\n",
       "      <td>1,625</td>\n",
       "      <td>59,602</td>\n",
       "      <td>$39,854.38</td>\n",
       "      <td>$24.53</td>\n",
       "      <td>$0.67</td>\n",
       "    </tr>\n",
       "  </tbody>\n",
       "</table>\n",
       "</div>"
      ],
      "text/plain": [
       "         Total Rides Total Driver  Total Fare Average Fare per Ride  \\\n",
       "Rural            125          537   $4,327.93                $34.62   \n",
       "Suburban         625        8,570  $19,356.33                $30.97   \n",
       "Urban          1,625       59,602  $39,854.38                $24.53   \n",
       "\n",
       "         Average Fare per Driver  \n",
       "Rural                      $8.06  \n",
       "Suburban                   $2.26  \n",
       "Urban                      $0.67  "
      ]
     },
     "execution_count": 128,
     "metadata": {},
     "output_type": "execute_result"
    }
   ],
   "source": [
    "#  8. Format the columns.\n",
    "pyber_summary_df['Total Rides'].astype(float)\n",
    "pyber_summary_df['Total Driver'].astype(float)\n",
    "pyber_summary_df['Total Fare'].astype(float)\n",
    "\n",
    "pyber_summary_df['Total Rides'] = pyber_summary_df['Total Rides'].apply(lambda x: \"{:,.0f}\".format(x))\n",
    "pyber_summary_df['Total Driver'] = pyber_summary_df['Total Driver'].apply(lambda x: \"{:,.0f}\".format(x))\n",
    "pyber_summary_df['Total Fare'] = pyber_summary_df['Total Fare'].apply(lambda x: \"${:,.2f}\".format(x))\n",
    "pyber_summary_df['Average Fare per Ride'] = pyber_summary_df['Average Fare per Ride'].apply(lambda x: \"${:,.2f}\".format(x))\n",
    "pyber_summary_df['Average Fare per Driver'] = pyber_summary_df['Average Fare per Driver'].apply(lambda x: \"${:,.2f}\".format(x))\n",
    "\n",
    "pyber_summary_df"
   ]
  },
  {
   "cell_type": "markdown",
   "metadata": {},
   "source": [
    "## Deliverable 2.  Create a multiple line plot that shows the total weekly of the fares for each type of city."
   ]
  },
  {
   "cell_type": "code",
   "execution_count": 185,
   "metadata": {},
   "outputs": [
    {
     "data": {
      "text/html": [
       "<div>\n",
       "<style scoped>\n",
       "    .dataframe tbody tr th:only-of-type {\n",
       "        vertical-align: middle;\n",
       "    }\n",
       "\n",
       "    .dataframe tbody tr th {\n",
       "        vertical-align: top;\n",
       "    }\n",
       "\n",
       "    .dataframe thead th {\n",
       "        text-align: right;\n",
       "    }\n",
       "</style>\n",
       "<table border=\"1\" class=\"dataframe\">\n",
       "  <thead>\n",
       "    <tr style=\"text-align: right;\">\n",
       "      <th></th>\n",
       "      <th>city</th>\n",
       "      <th>date</th>\n",
       "      <th>fare</th>\n",
       "      <th>ride_id</th>\n",
       "      <th>driver_count</th>\n",
       "      <th>type</th>\n",
       "    </tr>\n",
       "  </thead>\n",
       "  <tbody>\n",
       "    <tr>\n",
       "      <th>0</th>\n",
       "      <td>Lake Jonathanshire</td>\n",
       "      <td>2019-01-14</td>\n",
       "      <td>13.83</td>\n",
       "      <td>5739410935873</td>\n",
       "      <td>5</td>\n",
       "      <td>Urban</td>\n",
       "    </tr>\n",
       "    <tr>\n",
       "      <th>1</th>\n",
       "      <td>South Michelleport</td>\n",
       "      <td>2019-03-04</td>\n",
       "      <td>30.24</td>\n",
       "      <td>2343912425577</td>\n",
       "      <td>72</td>\n",
       "      <td>Urban</td>\n",
       "    </tr>\n",
       "    <tr>\n",
       "      <th>2</th>\n",
       "      <td>Port Samanthamouth</td>\n",
       "      <td>2019-02-24</td>\n",
       "      <td>33.44</td>\n",
       "      <td>2005065760003</td>\n",
       "      <td>57</td>\n",
       "      <td>Urban</td>\n",
       "    </tr>\n",
       "    <tr>\n",
       "      <th>3</th>\n",
       "      <td>Rodneyfort</td>\n",
       "      <td>2019-02-10</td>\n",
       "      <td>23.44</td>\n",
       "      <td>5149245426178</td>\n",
       "      <td>34</td>\n",
       "      <td>Urban</td>\n",
       "    </tr>\n",
       "    <tr>\n",
       "      <th>4</th>\n",
       "      <td>South Jack</td>\n",
       "      <td>2019-03-06</td>\n",
       "      <td>34.58</td>\n",
       "      <td>3908451377344</td>\n",
       "      <td>46</td>\n",
       "      <td>Urban</td>\n",
       "    </tr>\n",
       "    <tr>\n",
       "      <th>...</th>\n",
       "      <td>...</td>\n",
       "      <td>...</td>\n",
       "      <td>...</td>\n",
       "      <td>...</td>\n",
       "      <td>...</td>\n",
       "      <td>...</td>\n",
       "    </tr>\n",
       "    <tr>\n",
       "      <th>2370</th>\n",
       "      <td>Michaelberg</td>\n",
       "      <td>2019-04-29</td>\n",
       "      <td>13.38</td>\n",
       "      <td>8550365057598</td>\n",
       "      <td>6</td>\n",
       "      <td>Rural</td>\n",
       "    </tr>\n",
       "    <tr>\n",
       "      <th>2371</th>\n",
       "      <td>Lake Latoyabury</td>\n",
       "      <td>2019-01-30</td>\n",
       "      <td>20.76</td>\n",
       "      <td>9018727594352</td>\n",
       "      <td>2</td>\n",
       "      <td>Rural</td>\n",
       "    </tr>\n",
       "    <tr>\n",
       "      <th>2372</th>\n",
       "      <td>North Jaime</td>\n",
       "      <td>2019-02-10</td>\n",
       "      <td>11.11</td>\n",
       "      <td>2781339863778</td>\n",
       "      <td>1</td>\n",
       "      <td>Rural</td>\n",
       "    </tr>\n",
       "    <tr>\n",
       "      <th>2373</th>\n",
       "      <td>West Heather</td>\n",
       "      <td>2019-05-07</td>\n",
       "      <td>44.94</td>\n",
       "      <td>4256853490277</td>\n",
       "      <td>4</td>\n",
       "      <td>Rural</td>\n",
       "    </tr>\n",
       "    <tr>\n",
       "      <th>2374</th>\n",
       "      <td>Newtonview</td>\n",
       "      <td>2019-04-25</td>\n",
       "      <td>55.84</td>\n",
       "      <td>9990581345298</td>\n",
       "      <td>1</td>\n",
       "      <td>Rural</td>\n",
       "    </tr>\n",
       "  </tbody>\n",
       "</table>\n",
       "<p>2375 rows × 6 columns</p>\n",
       "</div>"
      ],
      "text/plain": [
       "                    city        date   fare        ride_id  driver_count  \\\n",
       "0     Lake Jonathanshire  2019-01-14  13.83  5739410935873             5   \n",
       "1     South Michelleport  2019-03-04  30.24  2343912425577            72   \n",
       "2     Port Samanthamouth  2019-02-24  33.44  2005065760003            57   \n",
       "3             Rodneyfort  2019-02-10  23.44  5149245426178            34   \n",
       "4             South Jack  2019-03-06  34.58  3908451377344            46   \n",
       "...                  ...         ...    ...            ...           ...   \n",
       "2370         Michaelberg  2019-04-29  13.38  8550365057598             6   \n",
       "2371     Lake Latoyabury  2019-01-30  20.76  9018727594352             2   \n",
       "2372         North Jaime  2019-02-10  11.11  2781339863778             1   \n",
       "2373        West Heather  2019-05-07  44.94  4256853490277             4   \n",
       "2374          Newtonview  2019-04-25  55.84  9990581345298             1   \n",
       "\n",
       "       type  \n",
       "0     Urban  \n",
       "1     Urban  \n",
       "2     Urban  \n",
       "3     Urban  \n",
       "4     Urban  \n",
       "...     ...  \n",
       "2370  Rural  \n",
       "2371  Rural  \n",
       "2372  Rural  \n",
       "2373  Rural  \n",
       "2374  Rural  \n",
       "\n",
       "[2375 rows x 6 columns]"
      ]
     },
     "execution_count": 185,
     "metadata": {},
     "output_type": "execute_result"
    }
   ],
   "source": [
    "# 1. Read the merged DataFrame\n",
    "pyber_data_df['date'] = pd.to_datetime(pyber_data_df['date']).dt.date\n",
    "pyber_data_df"
   ]
  },
  {
   "cell_type": "code",
   "execution_count": 204,
   "metadata": {},
   "outputs": [
    {
     "data": {
      "text/html": [
       "<div>\n",
       "<style scoped>\n",
       "    .dataframe tbody tr th:only-of-type {\n",
       "        vertical-align: middle;\n",
       "    }\n",
       "\n",
       "    .dataframe tbody tr th {\n",
       "        vertical-align: top;\n",
       "    }\n",
       "\n",
       "    .dataframe thead th {\n",
       "        text-align: right;\n",
       "    }\n",
       "</style>\n",
       "<table border=\"1\" class=\"dataframe\">\n",
       "  <thead>\n",
       "    <tr style=\"text-align: right;\">\n",
       "      <th></th>\n",
       "      <th></th>\n",
       "      <th>fare</th>\n",
       "    </tr>\n",
       "    <tr>\n",
       "      <th>type</th>\n",
       "      <th>date</th>\n",
       "      <th></th>\n",
       "    </tr>\n",
       "  </thead>\n",
       "  <tbody>\n",
       "    <tr>\n",
       "      <th rowspan=\"5\" valign=\"top\">Rural</th>\n",
       "      <th>2019-01-01</th>\n",
       "      <td>43.69</td>\n",
       "    </tr>\n",
       "    <tr>\n",
       "      <th>2019-01-02</th>\n",
       "      <td>52.12</td>\n",
       "    </tr>\n",
       "    <tr>\n",
       "      <th>2019-01-03</th>\n",
       "      <td>19.90</td>\n",
       "    </tr>\n",
       "    <tr>\n",
       "      <th>2019-01-04</th>\n",
       "      <td>24.88</td>\n",
       "    </tr>\n",
       "    <tr>\n",
       "      <th>2019-01-06</th>\n",
       "      <td>47.33</td>\n",
       "    </tr>\n",
       "    <tr>\n",
       "      <th>...</th>\n",
       "      <th>...</th>\n",
       "      <td>...</td>\n",
       "    </tr>\n",
       "    <tr>\n",
       "      <th rowspan=\"5\" valign=\"top\">Urban</th>\n",
       "      <th>2019-05-04</th>\n",
       "      <td>323.57</td>\n",
       "    </tr>\n",
       "    <tr>\n",
       "      <th>2019-05-05</th>\n",
       "      <td>322.10</td>\n",
       "    </tr>\n",
       "    <tr>\n",
       "      <th>2019-05-06</th>\n",
       "      <td>181.20</td>\n",
       "    </tr>\n",
       "    <tr>\n",
       "      <th>2019-05-07</th>\n",
       "      <td>258.01</td>\n",
       "    </tr>\n",
       "    <tr>\n",
       "      <th>2019-05-08</th>\n",
       "      <td>170.82</td>\n",
       "    </tr>\n",
       "  </tbody>\n",
       "</table>\n",
       "<p>334 rows × 1 columns</p>\n",
       "</div>"
      ],
      "text/plain": [
       "                    fare\n",
       "type  date              \n",
       "Rural 2019-01-01   43.69\n",
       "      2019-01-02   52.12\n",
       "      2019-01-03   19.90\n",
       "      2019-01-04   24.88\n",
       "      2019-01-06   47.33\n",
       "...                  ...\n",
       "Urban 2019-05-04  323.57\n",
       "      2019-05-05  322.10\n",
       "      2019-05-06  181.20\n",
       "      2019-05-07  258.01\n",
       "      2019-05-08  170.82\n",
       "\n",
       "[334 rows x 1 columns]"
      ]
     },
     "execution_count": 204,
     "metadata": {},
     "output_type": "execute_result"
    }
   ],
   "source": [
    "# 2. Using groupby() to create a new DataFrame showing the sum of the fares \n",
    "#  for each date where the indices are the city type and date.\n",
    "\n",
    "df = pd.DataFrame(pyber_data_df.groupby(['type', 'date'])['fare'].sum())\n",
    "df"
   ]
  },
  {
   "cell_type": "code",
   "execution_count": 205,
   "metadata": {},
   "outputs": [],
   "source": [
    "# 3. Reset the index on the DataFrame you created in #1. This is needed to use the 'pivot()' function.\n",
    "df = df.reset_index()"
   ]
  },
  {
   "cell_type": "code",
   "execution_count": 206,
   "metadata": {},
   "outputs": [],
   "source": [
    "# 4. Create a pivot table with the 'date' as the index, the columns ='type', and values='fare' \n",
    "# to get the total fares for each type of city by the date. \n",
    "df.columns\n",
    "\n",
    "pivot = df.pivot(index='date', columns ='type', values='fare')"
   ]
  },
  {
   "cell_type": "code",
   "execution_count": 207,
   "metadata": {},
   "outputs": [
    {
     "ename": "IndexError",
     "evalue": ".iloc requires numeric indexers, got ['2019-01-01T00:00:00.000000000' '2019-01-02T00:00:00.000000000'\n '2019-01-03T00:00:00.000000000' '2019-01-04T00:00:00.000000000'\n '2019-01-05T00:00:00.000000000' '2019-01-06T00:00:00.000000000'\n '2019-01-07T00:00:00.000000000' '2019-01-08T00:00:00.000000000'\n '2019-01-09T00:00:00.000000000' '2019-01-10T00:00:00.000000000'\n '2019-01-11T00:00:00.000000000' '2019-01-12T00:00:00.000000000'\n '2019-01-13T00:00:00.000000000' '2019-01-14T00:00:00.000000000'\n '2019-01-15T00:00:00.000000000' '2019-01-16T00:00:00.000000000'\n '2019-01-17T00:00:00.000000000' '2019-01-18T00:00:00.000000000'\n '2019-01-19T00:00:00.000000000' '2019-01-20T00:00:00.000000000'\n '2019-01-21T00:00:00.000000000' '2019-01-22T00:00:00.000000000'\n '2019-01-23T00:00:00.000000000' '2019-01-24T00:00:00.000000000'\n '2019-01-25T00:00:00.000000000' '2019-01-26T00:00:00.000000000'\n '2019-01-27T00:00:00.000000000' '2019-01-28T00:00:00.000000000'\n '2019-01-29T00:00:00.000000000' '2019-01-30T00:00:00.000000000'\n '2019-01-31T00:00:00.000000000' '2019-02-01T00:00:00.000000000'\n '2019-02-02T00:00:00.000000000' '2019-02-03T00:00:00.000000000'\n '2019-02-04T00:00:00.000000000' '2019-02-05T00:00:00.000000000'\n '2019-02-06T00:00:00.000000000' '2019-02-07T00:00:00.000000000'\n '2019-02-08T00:00:00.000000000' '2019-02-09T00:00:00.000000000'\n '2019-02-10T00:00:00.000000000' '2019-02-11T00:00:00.000000000'\n '2019-02-12T00:00:00.000000000' '2019-02-13T00:00:00.000000000'\n '2019-02-14T00:00:00.000000000' '2019-02-15T00:00:00.000000000'\n '2019-02-16T00:00:00.000000000' '2019-02-17T00:00:00.000000000'\n '2019-02-18T00:00:00.000000000' '2019-02-19T00:00:00.000000000'\n '2019-02-20T00:00:00.000000000' '2019-02-21T00:00:00.000000000'\n '2019-02-22T00:00:00.000000000' '2019-02-23T00:00:00.000000000'\n '2019-02-24T00:00:00.000000000' '2019-02-25T00:00:00.000000000'\n '2019-02-26T00:00:00.000000000' '2019-02-27T00:00:00.000000000'\n '2019-02-28T00:00:00.000000000' '2019-03-01T00:00:00.000000000'\n '2019-03-02T00:00:00.000000000' '2019-03-03T00:00:00.000000000'\n '2019-03-04T00:00:00.000000000' '2019-03-05T00:00:00.000000000'\n '2019-03-06T00:00:00.000000000' '2019-03-07T00:00:00.000000000'\n '2019-03-08T00:00:00.000000000' '2019-03-09T00:00:00.000000000'\n '2019-03-10T00:00:00.000000000' '2019-03-11T00:00:00.000000000'\n '2019-03-12T00:00:00.000000000' '2019-03-13T00:00:00.000000000'\n '2019-03-14T00:00:00.000000000' '2019-03-15T00:00:00.000000000'\n '2019-03-16T00:00:00.000000000' '2019-03-17T00:00:00.000000000'\n '2019-03-18T00:00:00.000000000' '2019-03-19T00:00:00.000000000'\n '2019-03-20T00:00:00.000000000' '2019-03-21T00:00:00.000000000'\n '2019-03-22T00:00:00.000000000' '2019-03-23T00:00:00.000000000'\n '2019-03-24T00:00:00.000000000' '2019-03-25T00:00:00.000000000'\n '2019-03-26T00:00:00.000000000' '2019-03-27T00:00:00.000000000'\n '2019-03-28T00:00:00.000000000' '2019-03-29T00:00:00.000000000'\n '2019-03-30T00:00:00.000000000' '2019-03-31T00:00:00.000000000'\n '2019-04-01T00:00:00.000000000' '2019-04-02T00:00:00.000000000'\n '2019-04-03T00:00:00.000000000' '2019-04-04T00:00:00.000000000'\n '2019-04-05T00:00:00.000000000' '2019-04-06T00:00:00.000000000'\n '2019-04-07T00:00:00.000000000' '2019-04-08T00:00:00.000000000'\n '2019-04-09T00:00:00.000000000' '2019-04-10T00:00:00.000000000'\n '2019-04-11T00:00:00.000000000' '2019-04-12T00:00:00.000000000'\n '2019-04-13T00:00:00.000000000' '2019-04-14T00:00:00.000000000'\n '2019-04-15T00:00:00.000000000' '2019-04-16T00:00:00.000000000'\n '2019-04-17T00:00:00.000000000' '2019-04-18T00:00:00.000000000'\n '2019-04-19T00:00:00.000000000' '2019-04-20T00:00:00.000000000'\n '2019-04-21T00:00:00.000000000' '2019-04-22T00:00:00.000000000'\n '2019-04-23T00:00:00.000000000' '2019-04-24T00:00:00.000000000'\n '2019-04-25T00:00:00.000000000' '2019-04-26T00:00:00.000000000'\n '2019-04-27T00:00:00.000000000' '2019-04-28T00:00:00.000000000']",
     "output_type": "error",
     "traceback": [
      "\u001b[0;31m---------------------------------------------------------------------------\u001b[0m",
      "\u001b[0;31mIndexError\u001b[0m                                Traceback (most recent call last)",
      "\u001b[0;32m<ipython-input-207-163047882a95>\u001b[0m in \u001b[0;36m<module>\u001b[0;34m\u001b[0m\n\u001b[1;32m      1\u001b[0m \u001b[0;31m# 5. Create a new DataFrame from the pivot table DataFrame using loc on the given dates, '2019-01-01':'2019-04-29'.\u001b[0m\u001b[0;34m\u001b[0m\u001b[0;34m\u001b[0m\u001b[0;34m\u001b[0m\u001b[0m\n\u001b[0;32m----> 2\u001b[0;31m \u001b[0mpivot\u001b[0m\u001b[0;34m.\u001b[0m\u001b[0miloc\u001b[0m\u001b[0;34m[\u001b[0m\u001b[0mpd\u001b[0m\u001b[0;34m.\u001b[0m\u001b[0mdate_range\u001b[0m\u001b[0;34m(\u001b[0m\u001b[0;34m'2019-01-01'\u001b[0m\u001b[0;34m,\u001b[0m \u001b[0;34m'2019-04-28'\u001b[0m\u001b[0;34m)\u001b[0m\u001b[0;34m,\u001b[0m \u001b[0;34m:\u001b[0m\u001b[0;34m]\u001b[0m\u001b[0;34m\u001b[0m\u001b[0;34m\u001b[0m\u001b[0m\n\u001b[0m",
      "\u001b[0;32m~/opt/anaconda3/lib/python3.8/site-packages/pandas/core/indexing.py\u001b[0m in \u001b[0;36m__getitem__\u001b[0;34m(self, key)\u001b[0m\n\u001b[1;32m    887\u001b[0m                     \u001b[0;31m# AttributeError for IntervalTree get_value\u001b[0m\u001b[0;34m\u001b[0m\u001b[0;34m\u001b[0m\u001b[0;34m\u001b[0m\u001b[0m\n\u001b[1;32m    888\u001b[0m                     \u001b[0;32mreturn\u001b[0m \u001b[0mself\u001b[0m\u001b[0;34m.\u001b[0m\u001b[0mobj\u001b[0m\u001b[0;34m.\u001b[0m\u001b[0m_get_value\u001b[0m\u001b[0;34m(\u001b[0m\u001b[0;34m*\u001b[0m\u001b[0mkey\u001b[0m\u001b[0;34m,\u001b[0m \u001b[0mtakeable\u001b[0m\u001b[0;34m=\u001b[0m\u001b[0mself\u001b[0m\u001b[0;34m.\u001b[0m\u001b[0m_takeable\u001b[0m\u001b[0;34m)\u001b[0m\u001b[0;34m\u001b[0m\u001b[0;34m\u001b[0m\u001b[0m\n\u001b[0;32m--> 889\u001b[0;31m             \u001b[0;32mreturn\u001b[0m \u001b[0mself\u001b[0m\u001b[0;34m.\u001b[0m\u001b[0m_getitem_tuple\u001b[0m\u001b[0;34m(\u001b[0m\u001b[0mkey\u001b[0m\u001b[0;34m)\u001b[0m\u001b[0;34m\u001b[0m\u001b[0;34m\u001b[0m\u001b[0m\n\u001b[0m\u001b[1;32m    890\u001b[0m         \u001b[0;32melse\u001b[0m\u001b[0;34m:\u001b[0m\u001b[0;34m\u001b[0m\u001b[0;34m\u001b[0m\u001b[0m\n\u001b[1;32m    891\u001b[0m             \u001b[0;31m# we by definition only have the 0th axis\u001b[0m\u001b[0;34m\u001b[0m\u001b[0;34m\u001b[0m\u001b[0;34m\u001b[0m\u001b[0m\n",
      "\u001b[0;32m~/opt/anaconda3/lib/python3.8/site-packages/pandas/core/indexing.py\u001b[0m in \u001b[0;36m_getitem_tuple\u001b[0;34m(self, tup)\u001b[0m\n\u001b[1;32m   1448\u001b[0m     \u001b[0;32mdef\u001b[0m \u001b[0m_getitem_tuple\u001b[0m\u001b[0;34m(\u001b[0m\u001b[0mself\u001b[0m\u001b[0;34m,\u001b[0m \u001b[0mtup\u001b[0m\u001b[0;34m:\u001b[0m \u001b[0mTuple\u001b[0m\u001b[0;34m)\u001b[0m\u001b[0;34m:\u001b[0m\u001b[0;34m\u001b[0m\u001b[0;34m\u001b[0m\u001b[0m\n\u001b[1;32m   1449\u001b[0m \u001b[0;34m\u001b[0m\u001b[0m\n\u001b[0;32m-> 1450\u001b[0;31m         \u001b[0mself\u001b[0m\u001b[0;34m.\u001b[0m\u001b[0m_has_valid_tuple\u001b[0m\u001b[0;34m(\u001b[0m\u001b[0mtup\u001b[0m\u001b[0;34m)\u001b[0m\u001b[0;34m\u001b[0m\u001b[0;34m\u001b[0m\u001b[0m\n\u001b[0m\u001b[1;32m   1451\u001b[0m         \u001b[0;32mwith\u001b[0m \u001b[0msuppress\u001b[0m\u001b[0;34m(\u001b[0m\u001b[0mIndexingError\u001b[0m\u001b[0;34m)\u001b[0m\u001b[0;34m:\u001b[0m\u001b[0;34m\u001b[0m\u001b[0;34m\u001b[0m\u001b[0m\n\u001b[1;32m   1452\u001b[0m             \u001b[0;32mreturn\u001b[0m \u001b[0mself\u001b[0m\u001b[0;34m.\u001b[0m\u001b[0m_getitem_lowerdim\u001b[0m\u001b[0;34m(\u001b[0m\u001b[0mtup\u001b[0m\u001b[0;34m)\u001b[0m\u001b[0;34m\u001b[0m\u001b[0;34m\u001b[0m\u001b[0m\n",
      "\u001b[0;32m~/opt/anaconda3/lib/python3.8/site-packages/pandas/core/indexing.py\u001b[0m in \u001b[0;36m_has_valid_tuple\u001b[0;34m(self, key)\u001b[0m\n\u001b[1;32m    721\u001b[0m         \u001b[0;32mfor\u001b[0m \u001b[0mi\u001b[0m\u001b[0;34m,\u001b[0m \u001b[0mk\u001b[0m \u001b[0;32min\u001b[0m \u001b[0menumerate\u001b[0m\u001b[0;34m(\u001b[0m\u001b[0mkey\u001b[0m\u001b[0;34m)\u001b[0m\u001b[0;34m:\u001b[0m\u001b[0;34m\u001b[0m\u001b[0;34m\u001b[0m\u001b[0m\n\u001b[1;32m    722\u001b[0m             \u001b[0;32mtry\u001b[0m\u001b[0;34m:\u001b[0m\u001b[0;34m\u001b[0m\u001b[0;34m\u001b[0m\u001b[0m\n\u001b[0;32m--> 723\u001b[0;31m                 \u001b[0mself\u001b[0m\u001b[0;34m.\u001b[0m\u001b[0m_validate_key\u001b[0m\u001b[0;34m(\u001b[0m\u001b[0mk\u001b[0m\u001b[0;34m,\u001b[0m \u001b[0mi\u001b[0m\u001b[0;34m)\u001b[0m\u001b[0;34m\u001b[0m\u001b[0;34m\u001b[0m\u001b[0m\n\u001b[0m\u001b[1;32m    724\u001b[0m             \u001b[0;32mexcept\u001b[0m \u001b[0mValueError\u001b[0m \u001b[0;32mas\u001b[0m \u001b[0merr\u001b[0m\u001b[0;34m:\u001b[0m\u001b[0;34m\u001b[0m\u001b[0;34m\u001b[0m\u001b[0m\n\u001b[1;32m    725\u001b[0m                 raise ValueError(\n",
      "\u001b[0;32m~/opt/anaconda3/lib/python3.8/site-packages/pandas/core/indexing.py\u001b[0m in \u001b[0;36m_validate_key\u001b[0;34m(self, key, axis)\u001b[0m\n\u001b[1;32m   1367\u001b[0m             \u001b[0;31m# check that the key has a numeric dtype\u001b[0m\u001b[0;34m\u001b[0m\u001b[0;34m\u001b[0m\u001b[0;34m\u001b[0m\u001b[0m\n\u001b[1;32m   1368\u001b[0m             \u001b[0;32mif\u001b[0m \u001b[0;32mnot\u001b[0m \u001b[0mis_numeric_dtype\u001b[0m\u001b[0;34m(\u001b[0m\u001b[0marr\u001b[0m\u001b[0;34m.\u001b[0m\u001b[0mdtype\u001b[0m\u001b[0;34m)\u001b[0m\u001b[0;34m:\u001b[0m\u001b[0;34m\u001b[0m\u001b[0;34m\u001b[0m\u001b[0m\n\u001b[0;32m-> 1369\u001b[0;31m                 \u001b[0;32mraise\u001b[0m \u001b[0mIndexError\u001b[0m\u001b[0;34m(\u001b[0m\u001b[0;34mf\".iloc requires numeric indexers, got {arr}\"\u001b[0m\u001b[0;34m)\u001b[0m\u001b[0;34m\u001b[0m\u001b[0;34m\u001b[0m\u001b[0m\n\u001b[0m\u001b[1;32m   1370\u001b[0m \u001b[0;34m\u001b[0m\u001b[0m\n\u001b[1;32m   1371\u001b[0m             \u001b[0;31m# check that the key does not exceed the maximum size of the index\u001b[0m\u001b[0;34m\u001b[0m\u001b[0;34m\u001b[0m\u001b[0;34m\u001b[0m\u001b[0m\n",
      "\u001b[0;31mIndexError\u001b[0m: .iloc requires numeric indexers, got ['2019-01-01T00:00:00.000000000' '2019-01-02T00:00:00.000000000'\n '2019-01-03T00:00:00.000000000' '2019-01-04T00:00:00.000000000'\n '2019-01-05T00:00:00.000000000' '2019-01-06T00:00:00.000000000'\n '2019-01-07T00:00:00.000000000' '2019-01-08T00:00:00.000000000'\n '2019-01-09T00:00:00.000000000' '2019-01-10T00:00:00.000000000'\n '2019-01-11T00:00:00.000000000' '2019-01-12T00:00:00.000000000'\n '2019-01-13T00:00:00.000000000' '2019-01-14T00:00:00.000000000'\n '2019-01-15T00:00:00.000000000' '2019-01-16T00:00:00.000000000'\n '2019-01-17T00:00:00.000000000' '2019-01-18T00:00:00.000000000'\n '2019-01-19T00:00:00.000000000' '2019-01-20T00:00:00.000000000'\n '2019-01-21T00:00:00.000000000' '2019-01-22T00:00:00.000000000'\n '2019-01-23T00:00:00.000000000' '2019-01-24T00:00:00.000000000'\n '2019-01-25T00:00:00.000000000' '2019-01-26T00:00:00.000000000'\n '2019-01-27T00:00:00.000000000' '2019-01-28T00:00:00.000000000'\n '2019-01-29T00:00:00.000000000' '2019-01-30T00:00:00.000000000'\n '2019-01-31T00:00:00.000000000' '2019-02-01T00:00:00.000000000'\n '2019-02-02T00:00:00.000000000' '2019-02-03T00:00:00.000000000'\n '2019-02-04T00:00:00.000000000' '2019-02-05T00:00:00.000000000'\n '2019-02-06T00:00:00.000000000' '2019-02-07T00:00:00.000000000'\n '2019-02-08T00:00:00.000000000' '2019-02-09T00:00:00.000000000'\n '2019-02-10T00:00:00.000000000' '2019-02-11T00:00:00.000000000'\n '2019-02-12T00:00:00.000000000' '2019-02-13T00:00:00.000000000'\n '2019-02-14T00:00:00.000000000' '2019-02-15T00:00:00.000000000'\n '2019-02-16T00:00:00.000000000' '2019-02-17T00:00:00.000000000'\n '2019-02-18T00:00:00.000000000' '2019-02-19T00:00:00.000000000'\n '2019-02-20T00:00:00.000000000' '2019-02-21T00:00:00.000000000'\n '2019-02-22T00:00:00.000000000' '2019-02-23T00:00:00.000000000'\n '2019-02-24T00:00:00.000000000' '2019-02-25T00:00:00.000000000'\n '2019-02-26T00:00:00.000000000' '2019-02-27T00:00:00.000000000'\n '2019-02-28T00:00:00.000000000' '2019-03-01T00:00:00.000000000'\n '2019-03-02T00:00:00.000000000' '2019-03-03T00:00:00.000000000'\n '2019-03-04T00:00:00.000000000' '2019-03-05T00:00:00.000000000'\n '2019-03-06T00:00:00.000000000' '2019-03-07T00:00:00.000000000'\n '2019-03-08T00:00:00.000000000' '2019-03-09T00:00:00.000000000'\n '2019-03-10T00:00:00.000000000' '2019-03-11T00:00:00.000000000'\n '2019-03-12T00:00:00.000000000' '2019-03-13T00:00:00.000000000'\n '2019-03-14T00:00:00.000000000' '2019-03-15T00:00:00.000000000'\n '2019-03-16T00:00:00.000000000' '2019-03-17T00:00:00.000000000'\n '2019-03-18T00:00:00.000000000' '2019-03-19T00:00:00.000000000'\n '2019-03-20T00:00:00.000000000' '2019-03-21T00:00:00.000000000'\n '2019-03-22T00:00:00.000000000' '2019-03-23T00:00:00.000000000'\n '2019-03-24T00:00:00.000000000' '2019-03-25T00:00:00.000000000'\n '2019-03-26T00:00:00.000000000' '2019-03-27T00:00:00.000000000'\n '2019-03-28T00:00:00.000000000' '2019-03-29T00:00:00.000000000'\n '2019-03-30T00:00:00.000000000' '2019-03-31T00:00:00.000000000'\n '2019-04-01T00:00:00.000000000' '2019-04-02T00:00:00.000000000'\n '2019-04-03T00:00:00.000000000' '2019-04-04T00:00:00.000000000'\n '2019-04-05T00:00:00.000000000' '2019-04-06T00:00:00.000000000'\n '2019-04-07T00:00:00.000000000' '2019-04-08T00:00:00.000000000'\n '2019-04-09T00:00:00.000000000' '2019-04-10T00:00:00.000000000'\n '2019-04-11T00:00:00.000000000' '2019-04-12T00:00:00.000000000'\n '2019-04-13T00:00:00.000000000' '2019-04-14T00:00:00.000000000'\n '2019-04-15T00:00:00.000000000' '2019-04-16T00:00:00.000000000'\n '2019-04-17T00:00:00.000000000' '2019-04-18T00:00:00.000000000'\n '2019-04-19T00:00:00.000000000' '2019-04-20T00:00:00.000000000'\n '2019-04-21T00:00:00.000000000' '2019-04-22T00:00:00.000000000'\n '2019-04-23T00:00:00.000000000' '2019-04-24T00:00:00.000000000'\n '2019-04-25T00:00:00.000000000' '2019-04-26T00:00:00.000000000'\n '2019-04-27T00:00:00.000000000' '2019-04-28T00:00:00.000000000']"
     ]
    }
   ],
   "source": [
    "# 5. Create a new DataFrame from the pivot table DataFrame using loc on the given dates, '2019-01-01':'2019-04-29'.\n",
    "pivot.iloc[pd.date_range('2019-01-01', '2019-04-28'), :]\n"
   ]
  },
  {
   "cell_type": "code",
   "execution_count": 16,
   "metadata": {},
   "outputs": [],
   "source": [
    "# 6. Set the \"date\" index to datetime datatype. This is necessary to use the resample() method in Step 8.\n",
    "# df.index = pd.to_datetime(df.index)\n",
    "date"
   ]
  },
  {
   "cell_type": "code",
   "execution_count": 17,
   "metadata": {},
   "outputs": [],
   "source": [
    "# 7. Check that the datatype for the index is datetime using df.info()\n"
   ]
  },
  {
   "cell_type": "code",
   "execution_count": 18,
   "metadata": {},
   "outputs": [],
   "source": [
    "# 8. Create a new DataFrame using the \"resample()\" function by week 'W' and get the sum of the fares for each week.\n"
   ]
  },
  {
   "cell_type": "code",
   "execution_count": 19,
   "metadata": {},
   "outputs": [],
   "source": [
    "# 8. Using the object-oriented interface method, plot the resample DataFrame using the df.plot() function. \n",
    "\n",
    "# Import the style from Matplotlib.\n",
    "from matplotlib import style\n",
    "# Use the graph style fivethirtyeight.\n",
    "style.use('fivethirtyeight')\n",
    "\n"
   ]
  },
  {
   "cell_type": "code",
   "execution_count": null,
   "metadata": {},
   "outputs": [],
   "source": []
  }
 ],
 "metadata": {
  "anaconda-cloud": {},
  "kernelspec": {
   "display_name": "Python 3",
   "language": "python",
   "name": "python3"
  },
  "language_info": {
   "codemirror_mode": {
    "name": "ipython",
    "version": 3
   },
   "file_extension": ".py",
   "mimetype": "text/x-python",
   "name": "python",
   "nbconvert_exporter": "python",
   "pygments_lexer": "ipython3",
   "version": "3.8.8"
  }
 },
 "nbformat": 4,
 "nbformat_minor": 2
}
